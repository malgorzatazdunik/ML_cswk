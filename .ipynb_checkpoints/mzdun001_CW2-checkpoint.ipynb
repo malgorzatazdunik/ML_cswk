{
 "cells": [
  {
   "cell_type": "markdown",
   "metadata": {},
   "source": [
    "# Logistic Regression using Gradient Batch Descent"
   ]
  },
  {
   "cell_type": "markdown",
   "metadata": {},
   "source": [
    "I was able to write some of the code with help of tutorials. Tutorials I was looking at can be found here: <br>\n",
    "https://medium.com/@martinpella/logistic-regression-from-scratch-in-python-124c5636b8ac <br>\n",
    "https://predictiveprogrammer.com/machine-learning-from-scratch-logistic-regression/"
   ]
  },
  {
   "cell_type": "code",
   "execution_count": 1,
   "metadata": {},
   "outputs": [],
   "source": [
    "import numpy as np\n",
    "X = np.asarray ([[0.50], [0.75], [1.00], [1.25], [1.50], [1.75], [3.00], [4.75], [1.75], [3.25], [5.00], [2.00], [2.25], [2.50], [2.75], [3.50], [4.00], [4.25], [4.50], [5.50]]) \n",
    "y = np.asarray([0, 0, 0, 0, 0, 0, 1, 0, 1, 0, 1,0,1,0,1,1,1,1,1,1])"
   ]
  },
  {
   "cell_type": "code",
   "execution_count": 2,
   "metadata": {},
   "outputs": [],
   "source": [
    "indices = np.arange(len(X))"
   ]
  },
  {
   "cell_type": "code",
   "execution_count": 3,
   "metadata": {},
   "outputs": [
    {
     "name": "stdout",
     "output_type": "stream",
     "text": [
      "[ 0  1  2  3  4  5  6  7  8  9 10 11 12 13 14 15 16 17 18 19]\n"
     ]
    }
   ],
   "source": [
    "print(indices)"
   ]
  },
  {
   "cell_type": "code",
   "execution_count": 4,
   "metadata": {},
   "outputs": [],
   "source": [
    "np.random.shuffle(indices)"
   ]
  },
  {
   "cell_type": "code",
   "execution_count": 5,
   "metadata": {},
   "outputs": [
    {
     "name": "stdout",
     "output_type": "stream",
     "text": [
      "[19  4  3  7  1 17  0 18  9  8 13 12 14  6 10  2  5 16 11 15]\n"
     ]
    }
   ],
   "source": [
    "print(indices)"
   ]
  },
  {
   "cell_type": "code",
   "execution_count": 6,
   "metadata": {},
   "outputs": [],
   "source": [
    "X = X[indices]\n",
    "y = y[indices]"
   ]
  },
  {
   "cell_type": "code",
   "execution_count": 7,
   "metadata": {},
   "outputs": [],
   "source": [
    "X_train, y_train, X_test, y_test = X[:15], y[:15], X[15:], y[15:]"
   ]
  },
  {
   "cell_type": "code",
   "execution_count": 8,
   "metadata": {},
   "outputs": [
    {
     "data": {
      "text/plain": [
       "array([[5.5 ],\n",
       "       [1.5 ],\n",
       "       [1.25],\n",
       "       [4.75],\n",
       "       [0.75],\n",
       "       [4.25],\n",
       "       [0.5 ],\n",
       "       [4.5 ],\n",
       "       [3.25],\n",
       "       [1.75],\n",
       "       [2.5 ],\n",
       "       [2.25],\n",
       "       [2.75],\n",
       "       [3.  ],\n",
       "       [5.  ]])"
      ]
     },
     "execution_count": 8,
     "metadata": {},
     "output_type": "execute_result"
    }
   ],
   "source": [
    "X_train"
   ]
  },
  {
   "cell_type": "markdown",
   "metadata": {},
   "source": [
    "## 1. Hypothesis. <br>\n",
    "The hypothesis function for logistic regression gives outputs between 0 and 1 for all values of X."
   ]
  },
  {
   "cell_type": "code",
   "execution_count": 9,
   "metadata": {},
   "outputs": [],
   "source": [
    "def sigmoid(X,theta):\n",
    "    '''\n",
    "    Sigmoid function takes in data X and coefficients (weights, bias) theta. Calculates z: dot product of X and theta[0]\n",
    "    adds theta[1] and returns 1 divided by 1 + element-wise exponential of (-z).\n",
    "\n",
    "    '''\n",
    "    z = np.dot(X, theta[0]) + theta[1]\n",
    "    #print(z)\n",
    "    return 1 / (1 + np.exp(-z))\n",
    "\n",
    "# some testing\n",
    "weights = [np.random.rand(X.shape[1], 1),np.zeros((1,))]\n",
    "h = sigmoid(X,weights)"
   ]
  },
  {
   "cell_type": "code",
   "execution_count": 10,
   "metadata": {},
   "outputs": [
    {
     "data": {
      "text/plain": [
       "[array([[0.06499865]]), array([0.])]"
      ]
     },
     "execution_count": 10,
     "metadata": {},
     "output_type": "execute_result"
    }
   ],
   "source": [
    "weights"
   ]
  },
  {
   "cell_type": "code",
   "execution_count": 11,
   "metadata": {},
   "outputs": [
    {
     "data": {
      "text/plain": [
       "array([[0.58843332],\n",
       "       [0.5243552 ],\n",
       "       [0.52030091],\n",
       "       [0.57657855],\n",
       "       [0.51218483],\n",
       "       [0.56862521],\n",
       "       [0.50812412],\n",
       "       [0.57260657],\n",
       "       [0.55261588],\n",
       "       [0.52840629],\n",
       "       [0.540535  ],\n",
       "       [0.53649671],\n",
       "       [0.54456797],\n",
       "       [0.5485951 ],\n",
       "       [0.58054066],\n",
       "       [0.51624394],\n",
       "       [0.52840629],\n",
       "       [0.56463496],\n",
       "       [0.53245363],\n",
       "       [0.55662979]])"
      ]
     },
     "execution_count": 11,
     "metadata": {},
     "output_type": "execute_result"
    }
   ],
   "source": [
    "h"
   ]
  },
  {
   "cell_type": "markdown",
   "metadata": {},
   "source": [
    "## 2. Loss function <br>\n",
    "Loss function is used to measure how well the algorithm is performing. "
   ]
  },
  {
   "cell_type": "code",
   "execution_count": 12,
   "metadata": {},
   "outputs": [],
   "source": [
    "def loss_(h, y):\n",
    "    '''\n",
    "    Loss function takes in probabilities calculated by the sigmoid (logistic) function and outputs loss according\n",
    "    to the labels.\n",
    "    '''\n",
    "    return (-y * np.log(h) - (1 - y) * np.log(1 - h)).mean()"
   ]
  },
  {
   "cell_type": "code",
   "execution_count": 13,
   "metadata": {},
   "outputs": [
    {
     "data": {
      "text/plain": [
       "0.6983738547672056"
      ]
     },
     "execution_count": 13,
     "metadata": {},
     "output_type": "execute_result"
    }
   ],
   "source": [
    "loss_(h, y)"
   ]
  },
  {
   "cell_type": "markdown",
   "metadata": {},
   "source": [
    "## 3. Gradient descent <br>\n",
    "Gradient descent is used to update parameters of the model to find the smallest loss (smallest local minimum)"
   ]
  },
  {
   "cell_type": "code",
   "execution_count": 14,
   "metadata": {},
   "outputs": [],
   "source": [
    "# some testing\n",
    "gradient = np.dot(X.T, (h - y)) / y.shape[0]"
   ]
  },
  {
   "cell_type": "code",
   "execution_count": 15,
   "metadata": {},
   "outputs": [
    {
     "data": {
      "text/plain": [
       "array([[-1.23342739,  1.55407261,  1.55407261,  1.55407261,  1.55407261,\n",
       "        -1.23342739,  1.55407261, -1.23342739,  1.55407261, -1.23342739,\n",
       "         1.55407261, -1.23342739, -1.23342739, -1.23342739, -1.23342739,\n",
       "         1.55407261,  1.55407261, -1.23342739,  1.55407261, -1.23342739]])"
      ]
     },
     "execution_count": 15,
     "metadata": {},
     "output_type": "execute_result"
    }
   ],
   "source": [
    "gradient"
   ]
  },
  {
   "cell_type": "code",
   "execution_count": 16,
   "metadata": {},
   "outputs": [],
   "source": [
    "def LogisticRegression(X,y,old_theta,alpha,treshold):\n",
    "    '''\n",
    "    LogisticRegression takes in data X, targets y, theta old_theta, learning rate alpha and loss treshold. \n",
    "    It iteratively updates the coefficients, \n",
    "    and stops once the loss function stops changing much. The function outputs coefficients and list of loss\n",
    "    values after each weight, bias update.\n",
    "    '''\n",
    "    loss_list = []\n",
    "\n",
    "    theta = old_theta.copy()\n",
    "\n",
    "    # initial loss value\n",
    "    h = sigmoid(X,theta)\n",
    "    loss = loss_(h,y)\n",
    "    loss_update = 0\n",
    "\n",
    "    index = 0\n",
    "\n",
    "    # compares loss value and stops once it stop changing by a chosen value\n",
    "    while(abs(loss-loss_update)> treshold):\n",
    "  #  while(index<100):\n",
    "            # updates coefficients\n",
    "            gradient = np.dot(X.T, (h - y)) / y.shape[0]\n",
    "            theta[0] -= alpha * gradient\n",
    "            theta[1] -= alpha * np.mean(h-y)\n",
    "            \n",
    "            #updates probabilities\n",
    "            h = sigmoid(X,theta)\n",
    "            \n",
    "            loss = loss_update\n",
    "            loss_update=loss_(h,y)\n",
    "            loss_list.append(loss_update)\n",
    "            #print([loss,loss_update])\n",
    "            \n",
    "            index+=1\n",
    "\n",
    "\n",
    "    print('GD stopped at loss %s, with coefficients: %s' % (loss,theta), 'index', index)\n",
    "    return theta,loss_list,index"
   ]
  },
  {
   "cell_type": "code",
   "execution_count": 17,
   "metadata": {},
   "outputs": [
    {
     "name": "stdout",
     "output_type": "stream",
     "text": [
      "GD stopped at loss 0.5669707349493398, with coefficients: [array([0.54419436]), array([-1.27339602])] index 228\n"
     ]
    }
   ],
   "source": [
    "old_theta = [np.random.rand(X_train.shape[1]),np.zeros((1,))]\n",
    "learning_rate = 0.1\n",
    "loss_treshold = 0.0001\n",
    "theta, loss,iteration = LogisticRegression(X_train,y_train,old_theta,learning_rate,loss_treshold)"
   ]
  },
  {
   "cell_type": "code",
   "execution_count": 18,
   "metadata": {},
   "outputs": [
    {
     "data": {
      "text/plain": [
       "[array([0.54419436]), array([-1.27339602])]"
      ]
     },
     "execution_count": 18,
     "metadata": {},
     "output_type": "execute_result"
    }
   ],
   "source": [
    "theta"
   ]
  },
  {
   "cell_type": "code",
   "execution_count": 19,
   "metadata": {},
   "outputs": [
    {
     "data": {
      "text/plain": [
       "[0.6772932265765284,\n",
       " 0.6636844390226945,\n",
       " 0.6543883859276574,\n",
       " 0.6481527543192487,\n",
       " 0.643980484615377,\n",
       " 0.6411430599148567,\n",
       " 0.6391421278089174,\n",
       " 0.6376533610115638,\n",
       " 0.6364734050108743,\n",
       " 0.6354782233458531,\n",
       " 0.6345936763552911,\n",
       " 0.6337760966179595,\n",
       " 0.6330000332358039,\n",
       " 0.6322507584002902,\n",
       " 0.6315197861610964,\n",
       " 0.630802234614722,\n",
       " 0.6300952907497737,\n",
       " 0.6293973243107882,\n",
       " 0.6287073793059001,\n",
       " 0.6280248834497671,\n",
       " 0.6273494826329162,\n",
       " 0.6266809468139772,\n",
       " 0.6260191165909678,\n",
       " 0.6253638728932063,\n",
       " 0.6247151197958434,\n",
       " 0.6240727747758709,\n",
       " 0.6234367631859304,\n",
       " 0.622807015118362,\n",
       " 0.6221834636239035,\n",
       " 0.6215660436983627,\n",
       " 0.6209546917048754,\n",
       " 0.6203493450433868,\n",
       " 0.6197499419605701,\n",
       " 0.619156421439602,\n",
       " 0.6185687231354061,\n",
       " 0.6179867873358198,\n",
       " 0.6174105549375691,\n",
       " 0.6168399674307187,\n",
       " 0.6162749668879783,\n",
       " 0.6157154959568047,\n",
       " 0.6151614978531091,\n",
       " 0.6146129163558942,\n",
       " 0.6140696958024245,\n",
       " 0.6135317810837059,\n",
       " 0.6129991176401387,\n",
       " 0.6124716514572739,\n",
       " 0.6119493290616181,\n",
       " 0.6114320975164705,\n",
       " 0.6109199044177716,\n",
       " 0.6104126978899538,\n",
       " 0.6099104265817947,\n",
       " 0.609413039662264,\n",
       " 0.6089204868163673,\n",
       " 0.6084327182409861,\n",
       " 0.6079496846407118,\n",
       " 0.6074713372236784,\n",
       " 0.6069976276973915,\n",
       " 0.606528508264557,\n",
       " 0.6060639316189076,\n",
       " 0.6056038509410331,\n",
       " 0.6051482198942101,\n",
       " 0.6046969926202372,\n",
       " 0.6042501237352735,\n",
       " 0.6038075683256826,\n",
       " 0.6033692819438835,\n",
       " 0.6029352206042102,\n",
       " 0.6025053407787792,\n",
       " 0.602079599393367,\n",
       " 0.6016579538232977,\n",
       " 0.6012403618893447,\n",
       " 0.6008267818536422,\n",
       " 0.6004171724156125,\n",
       " 0.6000114927079061,\n",
       " 0.5996097022923579,\n",
       " 0.5992117611559598,\n",
       " 0.5988176297068475,\n",
       " 0.5984272687703093,\n",
       " 0.598040639584807,\n",
       " 0.5976577037980216,\n",
       " 0.5972784234629132,\n",
       " 0.5969027610338041,\n",
       " 0.5965306793624815,\n",
       " 0.59616214169432,\n",
       " 0.5957971116644277,\n",
       " 0.595435553293813,\n",
       " 0.5950774309855721,\n",
       " 0.5947227095211043,\n",
       " 0.5943713540563457,\n",
       " 0.5940233301180281,\n",
       " 0.5936786035999625,\n",
       " 0.593337140759348,\n",
       " 0.5929989082131012,\n",
       " 0.5926638729342152,\n",
       " 0.5923320022481414,\n",
       " 0.5920032638291969,\n",
       " 0.5916776256969984,\n",
       " 0.5913550562129213,\n",
       " 0.5910355240765851,\n",
       " 0.5907189983223654,\n",
       " 0.5904054483159323,\n",
       " 0.5900948437508151,\n",
       " 0.5897871546449944,\n",
       " 0.5894823513375199,\n",
       " 0.5891804044851566,\n",
       " 0.5888812850590582,\n",
       " 0.5885849643414655,\n",
       " 0.5882914139224346,\n",
       " 0.5880006056965911,\n",
       " 0.5877125118599121,\n",
       " 0.5874271049065353,\n",
       " 0.5871443576255958,\n",
       " 0.5868642430980899,\n",
       " 0.5865867346937664,\n",
       " 0.5863118060680469,\n",
       " 0.5860394311589698,\n",
       " 0.5857695841841668,\n",
       " 0.5855022396378613,\n",
       " 0.585237372287899,\n",
       " 0.5849749571728015,\n",
       " 0.5847149695988508,\n",
       " 0.5844573851371986,\n",
       " 0.5842021796210033,\n",
       " 0.5839493291425931,\n",
       " 0.5836988100506588,\n",
       " 0.5834505989474691,\n",
       " 0.5832046726861173,\n",
       " 0.5829610083677897,\n",
       " 0.5827195833390658,\n",
       " 0.582480375189239,\n",
       " 0.5822433617476689,\n",
       " 0.582008521081157,\n",
       " 0.5817758314913474,\n",
       " 0.5815452715121567,\n",
       " 0.581316819907226,\n",
       " 0.5810904556674014,\n",
       " 0.5808661580082378,\n",
       " 0.5806439063675293,\n",
       " 0.5804236804028644,\n",
       " 0.580205459989205,\n",
       " 0.5799892252164928,\n",
       " 0.5797749563872777,\n",
       " 0.5795626340143725,\n",
       " 0.5793522388185306,\n",
       " 0.5791437517261485,\n",
       " 0.5789371538669937,\n",
       " 0.5787324265719529,\n",
       " 0.578529551370808,\n",
       " 0.578328509990031,\n",
       " 0.578129284350608,\n",
       " 0.5779318565658803,\n",
       " 0.5777362089394125,\n",
       " 0.5775423239628814,\n",
       " 0.5773501843139895,\n",
       " 0.5771597728543973,\n",
       " 0.576971072627682,\n",
       " 0.5767840668573154,\n",
       " 0.5765987389446644,\n",
       " 0.5764150724670141,\n",
       " 0.5762330511756099,\n",
       " 0.5760526589937247,\n",
       " 0.5758738800147436,\n",
       " 0.5756966985002714,\n",
       " 0.5755210988782596,\n",
       " 0.575347065741157,\n",
       " 0.5751745838440756,\n",
       " 0.5750036381029812,\n",
       " 0.5748342135929022,\n",
       " 0.5746662955461572,\n",
       " 0.574499869350605,\n",
       " 0.5743349205479108,\n",
       " 0.5741714348318339,\n",
       " 0.5740093980465336,\n",
       " 0.5738487961848945,\n",
       " 0.5736896153868695,\n",
       " 0.5735318419378422,\n",
       " 0.573375462267008,\n",
       " 0.5732204629457719,\n",
       " 0.5730668306861655,\n",
       " 0.5729145523392811,\n",
       " 0.5727636148937246,\n",
       " 0.5726140054740845,\n",
       " 0.5724657113394177,\n",
       " 0.5723187198817553,\n",
       " 0.5721730186246214,\n",
       " 0.5720285952215726,\n",
       " 0.5718854374547495,\n",
       " 0.5717435332334496,\n",
       " 0.5716028705927126,\n",
       " 0.5714634376919236,\n",
       " 0.571325222813432,\n",
       " 0.5711882143611849,\n",
       " 0.5710524008593779,\n",
       " 0.5709177709511197,\n",
       " 0.5707843133971137,\n",
       " 0.5706520170743516,\n",
       " 0.5705208709748264,\n",
       " 0.5703908642042551,\n",
       " 0.5702619859808208,\n",
       " 0.5701342256339247,\n",
       " 0.570007572602956,\n",
       " 0.569882016436074,\n",
       " 0.5697575467890047,\n",
       " 0.5696341534238514,\n",
       " 0.5695118262079176,\n",
       " 0.5693905551125458,\n",
       " 0.569270330211967,\n",
       " 0.5691511416821664,\n",
       " 0.5690329797997589,\n",
       " 0.5689158349408795,\n",
       " 0.5687996975800866,\n",
       " 0.568684558289276,\n",
       " 0.5685704077366113,\n",
       " 0.5684572366854603,\n",
       " 0.5683450359933511,\n",
       " 0.5682337966109344,\n",
       " 0.5681235095809599,\n",
       " 0.5680141660372652,\n",
       " 0.5679057572037756,\n",
       " 0.5677982743935143,\n",
       " 0.5676917090076266,\n",
       " 0.5675860525344129,\n",
       " 0.5674812965483739,\n",
       " 0.567377432709267,\n",
       " 0.5672744527611733,\n",
       " 0.5671723485315748,\n",
       " 0.5670711119304437,\n",
       " 0.5669707349493398,\n",
       " 0.5668712096605221]"
      ]
     },
     "execution_count": 19,
     "metadata": {},
     "output_type": "execute_result"
    }
   ],
   "source": [
    "loss"
   ]
  },
  {
   "cell_type": "markdown",
   "metadata": {},
   "source": [
    "## Evalution on test set"
   ]
  },
  {
   "cell_type": "code",
   "execution_count": 20,
   "metadata": {},
   "outputs": [],
   "source": [
    "y_pred = sigmoid(X_test, theta)"
   ]
  },
  {
   "cell_type": "code",
   "execution_count": 21,
   "metadata": {},
   "outputs": [
    {
     "data": {
      "text/plain": [
       "array([0.32536994, 0.42041844, 0.71164389, 0.45387965, 0.6527806 ])"
      ]
     },
     "execution_count": 21,
     "metadata": {},
     "output_type": "execute_result"
    }
   ],
   "source": [
    "y_pred"
   ]
  },
  {
   "cell_type": "code",
   "execution_count": 22,
   "metadata": {},
   "outputs": [
    {
     "name": "stdout",
     "output_type": "stream",
     "text": [
      "[0. 0. 1. 0. 1.]\n"
     ]
    }
   ],
   "source": [
    "for i in range(len(y_pred)):\n",
    "    if y_pred[i] >= 0.5:\n",
    "        y_pred[i] = 1\n",
    "    else:\n",
    "        y_pred[i] = 0\n",
    "print (y_pred)"
   ]
  },
  {
   "cell_type": "code",
   "execution_count": 23,
   "metadata": {},
   "outputs": [
    {
     "name": "stdout",
     "output_type": "stream",
     "text": [
      "Mean squared error: 0.00\n"
     ]
    },
    {
     "data": {
      "image/png": "[encoded data removed]",
      "text/plain": [
       "<Figure size 432x288 with 1 Axes>"
      ]
     },
     "metadata": {
      "needs_background": "light"
     },
     "output_type": "display_data"
    }
   ],
   "source": [
    "from sklearn.metrics import mean_squared_error\n",
    "import matplotlib.pyplot as plt\n",
    "%matplotlib inline\n",
    "\n",
    "# The mean squared error\n",
    "print(\"Mean squared error: %.2f\"\n",
    "      % mean_squared_error(y_test, y_pred))\n",
    "\n",
    "\n",
    "plt.plot(y_test - 0.1,'g*')\n",
    "plt.plot(y_pred,'b.')\n",
    "plt.legend(['True labels', 'Predicted labels'])\n",
    "plt.show()"
   ]
  },
  {
   "cell_type": "code",
   "execution_count": 24,
   "metadata": {},
   "outputs": [],
   "source": [
    "import pandas as pd\n",
    "results_data = {'True':y_test, 'Predicted':y_pred}\n",
    "results = pd.DataFrame(results_data,columns = ['True','Predicted'])"
   ]
  },
  {
   "cell_type": "code",
   "execution_count": 25,
   "metadata": {},
   "outputs": [
    {
     "data": {
      "text/html": [
       "<div>\n",
       "<style scoped>\n",
       "    .dataframe tbody tr th:only-of-type {\n",
       "        vertical-align: middle;\n",
       "    }\n",
       "\n",
       "    .dataframe tbody tr th {\n",
       "        vertical-align: top;\n",
       "    }\n",
       "\n",
       "    .dataframe thead th {\n",
       "        text-align: right;\n",
       "    }\n",
       "</style>\n",
       "<table border=\"1\" class=\"dataframe\">\n",
       "  <thead>\n",
       "    <tr style=\"text-align: right;\">\n",
       "      <th></th>\n",
       "      <th>True</th>\n",
       "      <th>Predicted</th>\n",
       "    </tr>\n",
       "  </thead>\n",
       "  <tbody>\n",
       "    <tr>\n",
       "      <th>0</th>\n",
       "      <td>0</td>\n",
       "      <td>0.0</td>\n",
       "    </tr>\n",
       "    <tr>\n",
       "      <th>1</th>\n",
       "      <td>0</td>\n",
       "      <td>0.0</td>\n",
       "    </tr>\n",
       "    <tr>\n",
       "      <th>2</th>\n",
       "      <td>1</td>\n",
       "      <td>1.0</td>\n",
       "    </tr>\n",
       "    <tr>\n",
       "      <th>3</th>\n",
       "      <td>0</td>\n",
       "      <td>0.0</td>\n",
       "    </tr>\n",
       "    <tr>\n",
       "      <th>4</th>\n",
       "      <td>1</td>\n",
       "      <td>1.0</td>\n",
       "    </tr>\n",
       "  </tbody>\n",
       "</table>\n",
       "</div>"
      ],
      "text/plain": [
       "   True  Predicted\n",
       "0     0        0.0\n",
       "1     0        0.0\n",
       "2     1        1.0\n",
       "3     0        0.0\n",
       "4     1        1.0"
      ]
     },
     "execution_count": 25,
     "metadata": {},
     "output_type": "execute_result"
    }
   ],
   "source": [
    "results"
   ]
  },
  {
   "cell_type": "code",
   "execution_count": 26,
   "metadata": {},
   "outputs": [
    {
     "name": "stdout",
     "output_type": "stream",
     "text": [
      "ACCURACY =  1.0\n"
     ]
    }
   ],
   "source": [
    "print (\"ACCURACY = \",(y_pred== y_test).mean())"
   ]
  },
  {
   "cell_type": "markdown",
   "metadata": {},
   "source": [
    "## Report <br>\n",
    "This assignment is an implementation of Logistic Regression. \n",
    "To implement it, logistic (sigmoid) function is needed, which takes in data and the initial weight and bias values as input and outputs a probability for each data point. Sigmoid function outputs results that are in between 0 and 1, so it’s a good way of solving a binary classification problem – a problem in which the targets can only have two values – 0 or 1. <br> I’ve implemented logistic regression using the batch gradient descent algorithm to update parameters of the model to minimize the loss function by moving it in the direction of the steepest descent. I am calculating the gradients in the LogisticRegression function in the while loop, that checks the rate at which loss is changing (stops the loop when the loss isn’t changing by more than a set value). <br> After calculating the gradients, coefficients (intercept and gradient coefficient) are updated using the value of the learning rate and the calculated value of gradient. Then the sigmoid function is used again to calculate new probabilities with updated weights and and loss is calculated again. The loss function operates on the both theta parameters given data X and target y. <br> I have used np.random.rand function on X_train shape – it calculates a random number, essentially (or rather, an array with one element in it), but would also calculate a random vector if there were more features in the data set (shape[1] returns number of rows only)  to calculate the initial theta[0] value. For theta[1] value I just used an array of one element (zero). <br> The LogisticRegression function outputs the final values of theta, as well as a list of losses that were calculated after each update of parameters. The final theta is then used to evaluate the model on the test set (by calling simoid function on test set and theta). The sigmoid function outputs values between 0 and 1 for each test set point, which can be then transformed into 0s and 1s by rounding the numbers to integers or iterating through the list of probabilities and comparing them against a certain threshold. <br> I used the matplotlib library to plot true labels of the test set and predictions. "
   ]
  },
  {
   "cell_type": "markdown",
   "metadata": {},
   "source": [
    "### Question 1. <br>\n",
    "After how many iterations, and for which learning rate (α) did your algorithm converge? Plot the loss function with respect to iterations to illustrate this point. "
   ]
  },
  {
   "cell_type": "code",
   "execution_count": 27,
   "metadata": {},
   "outputs": [
    {
     "name": "stdout",
     "output_type": "stream",
     "text": [
      "My algorithm stopped at 228 iteration, for 0.1 learning rate\n"
     ]
    }
   ],
   "source": [
    "print('My algorithm stopped at %s iteration, for %s learning rate' % (iteration,learning_rate) )"
   ]
  },
  {
   "cell_type": "code",
   "execution_count": 28,
   "metadata": {},
   "outputs": [
    {
     "data": {
      "image/png": "[encoded data removed]",
      "text/plain": [
       "<Figure size 432x288 with 1 Axes>"
      ]
     },
     "metadata": {
      "needs_background": "light"
     },
     "output_type": "display_data"
    }
   ],
   "source": [
    "from sklearn.metrics import mean_squared_error\n",
    "import matplotlib.pyplot as plt\n",
    "%matplotlib inline\n",
    "\n",
    "plt.plot(np.arange(iteration),loss)\n",
    "plt.xlabel(\"loss\")\n",
    "plt.ylabel(\"iterations\")\n",
    "plt.show()"
   ]
  },
  {
   "cell_type": "markdown",
   "metadata": {},
   "source": [
    "### Question 2. <br>\n",
    "\n",
    "What happens if α is too large? How does this affect the loss function? Plot the loss function with respect to iterations to illustrate this point."
   ]
  },
  {
   "cell_type": "code",
   "execution_count": 29,
   "metadata": {},
   "outputs": [
    {
     "name": "stdout",
     "output_type": "stream",
     "text": [
      "GD stopped at loss 0.6786994587177577, with coefficients: [array([1.80461914]), array([-4.95753277])] index 42\n"
     ]
    }
   ],
   "source": [
    "old_theta = [np.random.rand(X_train.shape[1]),np.zeros((1,))]\n",
    "learning_rate = 3\n",
    "loss_treshold = 0.01\n",
    "theta, loss,iteration = LogisticRegression(X_train,y_train,old_theta,learning_rate,loss_treshold)"
   ]
  },
  {
   "cell_type": "code",
   "execution_count": 30,
   "metadata": {},
   "outputs": [
    {
     "data": {
      "image/png": "[encoded data removed]",
      "text/plain": [
       "<Figure size 432x288 with 1 Axes>"
      ]
     },
     "metadata": {
      "needs_background": "light"
     },
     "output_type": "display_data"
    }
   ],
   "source": [
    "from sklearn.metrics import mean_squared_error\n",
    "import matplotlib.pyplot as plt\n",
    "%matplotlib inline\n",
    "\n",
    "plt.plot(np.arange(iteration),loss)\n",
    "plt.xlabel(\"loss\")\n",
    "plt.ylabel(\"iterations\")\n",
    "plt.show()"
   ]
  },
  {
   "cell_type": "markdown",
   "metadata": {},
   "source": [
    "Model is not able to succesfully find the local minimum loss (It overshoots and may never converge.)"
   ]
  },
  {
   "cell_type": "markdown",
   "metadata": {},
   "source": [
    "### Question 3. <br>\n",
    "Assume that you are applying logistic regression to the iris (flower) dataset, as in the previous assignment. Answer the following questions:\n",
    "<br>\n",
    "(a) How would your hypothesis function change in this case and why?\n",
    "<br>\n",
    "(b) How would you utilize your implementation of logistic regression in order to perform (multi-class) classification on the iris dataset? Include some pseudocode while discussing your approach."
   ]
  },
  {
   "cell_type": "code",
   "execution_count": 31,
   "metadata": {},
   "outputs": [],
   "source": [
    "# sigmoid function I used\n",
    "def sigmoid(X,theta):\n",
    "    z = np.dot(X, theta[0]) + theta[1]\n",
    "    #print(z)\n",
    "    return 1 / (1 + np.exp(-z))"
   ]
  },
  {
   "cell_type": "markdown",
   "metadata": {},
   "source": [
    "(a) There is only one feature in this dataset, which means there is one data input and one target output for each feature. There are four in the iris dataset, so the data set has more dimensions. Because I am already using dot product here, the function would work anyway (It multiplies matrices). In the lab my linear function looked more like something like \n",
    "'theta[0] add (theta[1] multiply by X)', where theta was a vector [100,2], so it only multiplied an integer by an integer, instead of calculating dot product of a matrix."
   ]
  },
  {
   "cell_type": "markdown",
   "metadata": {},
   "source": [
    "(b) Multi-class classification on the iris dataset would mean I would need a function that for each data point outputs probabilities of that data point belonging to each of the classes (As opposed to one probability/'spectrum' between 0 and 1). A way of doing so is to transform the problem into multiple binary classification problems that output probability for each class and normalize them so they all sum up to 1. As opposed to 'sigmoid' function it's called 'softmax'."
   ]
  }
 ],
 "metadata": {
  "kernelspec": {
   "display_name": "Python 3",
   "language": "python",
   "name": "python3"
  },
  "language_info": {
   "codemirror_mode": {
    "name": "ipython",
    "version": 3
   },
   "file_extension": ".py",
   "mimetype": "text/x-python",
   "name": "python",
   "nbconvert_exporter": "python",
   "pygments_lexer": "ipython3",
   "version": "3.5.6"
  }
 },
 "nbformat": 4,
 "nbformat_minor": 4
}
