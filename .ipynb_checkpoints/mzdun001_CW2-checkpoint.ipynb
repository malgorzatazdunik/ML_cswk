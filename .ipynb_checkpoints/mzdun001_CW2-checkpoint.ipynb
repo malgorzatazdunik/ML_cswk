{
 "cells": [
  {
   "cell_type": "markdown",
   "metadata": {},
   "source": [
    "Hours\t0.50  |\t0.75  |\t1.00  |\t1.25  |\t1.50  |\t 1.75  |   1.75  |  2.00  | \t2.25 |\t2.50 |\t2.75 |\t3.00 |\t3.25 |\t3.50 |\t4.00 |\t4.25 |\t4.50 |\t4.75 |\t5.00 |\t5.50 |\n",
    "<br>\n",
    "Pass\t0 |\t0 |\t0 |\t0 |\t0 |\t0 |\t1 |\t0 |\t1 |\t0 |\t1 |0 |1 |\t0 |\t1 |\t1 |\t1 |\t1 |\t1 |\t1"
   ]
  },
  {
   "cell_type": "markdown",
   "metadata": {},
   "source": [
    "In general, to do: 1. Link tutorials. 2. comments, doc strings. 3. report 4. questions "
   ]
  },
  {
   "cell_type": "markdown",
   "metadata": {},
   "source": [
    "https://medium.com/@martinpella/logistic-regression-from-scratch-in-python-124c5636b8ac <br>\n",
    "https://predictiveprogrammer.com/machine-learning-from-scratch-logistic-regression/"
   ]
  },
  {
   "cell_type": "code",
   "execution_count": 1,
   "metadata": {},
   "outputs": [],
   "source": [
    "import numpy as np\n",
    "X = np.asarray ([[0.50], [0.75], [1.00], [1.25], [1.50], [1.75], [3.00], [4.75], [1.75], [3.25], [5.00], [2.00], [2.25], [2.50], [2.75], [3.50], [4.00], [4.25], [4.50], [5.50]]) \n",
    "y = np.asarray([0, 0, 0, 0, 0, 0, 1, 0, 1, 0, 1,0,1,0,1,1,1,1,1,1])"
   ]
  },
  {
   "cell_type": "code",
   "execution_count": 2,
   "metadata": {},
   "outputs": [],
   "source": [
    "indices = np.arange(len(X))"
   ]
  },
  {
   "cell_type": "code",
   "execution_count": 3,
   "metadata": {},
   "outputs": [
    {
     "name": "stdout",
     "output_type": "stream",
     "text": [
      "[ 0  1  2  3  4  5  6  7  8  9 10 11 12 13 14 15 16 17 18 19]\n"
     ]
    }
   ],
   "source": [
    "print(indices)"
   ]
  },
  {
   "cell_type": "code",
   "execution_count": 4,
   "metadata": {},
   "outputs": [],
   "source": [
    "np.random.shuffle(indices)"
   ]
  },
  {
   "cell_type": "code",
   "execution_count": 5,
   "metadata": {},
   "outputs": [
    {
     "name": "stdout",
     "output_type": "stream",
     "text": [
      "[12  9 18 13  6  3  4  8 15 10  2  7 16  0 17  5 14  1 11 19]\n"
     ]
    }
   ],
   "source": [
    "print(indices)"
   ]
  },
  {
   "cell_type": "code",
   "execution_count": 6,
   "metadata": {},
   "outputs": [],
   "source": [
    "X = X[indices]\n",
    "y = y[indices]"
   ]
  },
  {
   "cell_type": "code",
   "execution_count": 7,
   "metadata": {},
   "outputs": [
    {
     "name": "stdout",
     "output_type": "stream",
     "text": [
      "[[2.25]\n",
      " [3.25]\n",
      " [4.5 ]\n",
      " [2.5 ]\n",
      " [3.  ]\n",
      " [1.25]\n",
      " [1.5 ]\n",
      " [1.75]\n",
      " [3.5 ]\n",
      " [5.  ]\n",
      " [1.  ]\n",
      " [4.75]\n",
      " [4.  ]\n",
      " [0.5 ]\n",
      " [4.25]\n",
      " [1.75]\n",
      " [2.75]\n",
      " [0.75]\n",
      " [2.  ]\n",
      " [5.5 ]] [1 0 1 0 1 0 0 1 1 1 0 0 1 0 1 0 1 0 0 1]\n"
     ]
    }
   ],
   "source": [
    "print(X,y)"
   ]
  },
  {
   "cell_type": "code",
   "execution_count": 8,
   "metadata": {},
   "outputs": [],
   "source": [
    "X_train, y_train, X_test, y_test = X[:15], y[:15], X[15:], y[15:]"
   ]
  },
  {
   "cell_type": "code",
   "execution_count": 9,
   "metadata": {},
   "outputs": [
    {
     "data": {
      "text/plain": [
       "array([[2.25],\n",
       "       [3.25],\n",
       "       [4.5 ],\n",
       "       [2.5 ],\n",
       "       [3.  ],\n",
       "       [1.25],\n",
       "       [1.5 ],\n",
       "       [1.75],\n",
       "       [3.5 ],\n",
       "       [5.  ],\n",
       "       [1.  ],\n",
       "       [4.75],\n",
       "       [4.  ],\n",
       "       [0.5 ],\n",
       "       [4.25]])"
      ]
     },
     "execution_count": 9,
     "metadata": {},
     "output_type": "execute_result"
    }
   ],
   "source": [
    "X_train"
   ]
  },
  {
   "cell_type": "markdown",
   "metadata": {},
   "source": [
    "## 1. Hypothesis. <br>\n",
    "The hypothesis function for logistic regression gives outputs between 0 and 1 for all values of X."
   ]
  },
  {
   "cell_type": "code",
   "execution_count": 10,
   "metadata": {},
   "outputs": [],
   "source": [
    "def sigmoid(X,theta):\n",
    "    '''\n",
    "    Sigmoid function takes in data X and coefficients (weights, bias) theta. Calculates z: dot product of X and theta[0]\n",
    "    adds theta[1] and returns 1 divided by 1 + element-wise exponential of (-z).\n",
    "\n",
    "    '''\n",
    "    z = np.dot(X, theta[0]) + theta[1]\n",
    "    #print(z)\n",
    "    return 1 / (1 + np.exp(-z))\n",
    "\n",
    "# some testing\n",
    "weights = [np.random.rand(X.shape[1], 1),np.zeros((1,))]\n",
    "h = sigmoid(X,weights)"
   ]
  },
  {
   "cell_type": "code",
   "execution_count": 11,
   "metadata": {},
   "outputs": [
    {
     "data": {
      "text/plain": [
       "[array([[0.48597977]]), array([0.])]"
      ]
     },
     "execution_count": 11,
     "metadata": {},
     "output_type": "execute_result"
    }
   ],
   "source": [
    "weights"
   ]
  },
  {
   "cell_type": "code",
   "execution_count": 12,
   "metadata": {},
   "outputs": [
    {
     "data": {
      "text/plain": [
       "array([[0.74903167],\n",
       "       [0.82912438],\n",
       "       [0.89906776],\n",
       "       [0.77117352],\n",
       "       [0.8112173 ],\n",
       "       [0.64736454],\n",
       "       [0.67457913],\n",
       "       [0.70066459],\n",
       "       [0.84565606],\n",
       "       [0.91907901],\n",
       "       [0.61915891],\n",
       "       [0.90957066],\n",
       "       [0.87478207],\n",
       "       [0.56045033],\n",
       "       [0.88749588],\n",
       "       [0.70066459],\n",
       "       [0.79190461],\n",
       "       [0.59012565],\n",
       "       [0.72550991],\n",
       "       [0.93540779]])"
      ]
     },
     "execution_count": 12,
     "metadata": {},
     "output_type": "execute_result"
    }
   ],
   "source": [
    "h"
   ]
  },
  {
   "cell_type": "markdown",
   "metadata": {},
   "source": [
    "## 2. Loss function <br>\n",
    "Loss function is used to measure how well the algorithm is performing. "
   ]
  },
  {
   "cell_type": "code",
   "execution_count": 13,
   "metadata": {},
   "outputs": [],
   "source": [
    "def loss_(h, y):\n",
    "    '''\n",
    "    Loss function takes in probabilities calculated by the sigmoid (logistic) function and outputs loss according\n",
    "    to the labels.\n",
    "    '''\n",
    "    return (-y * np.log(h) - (1 - y) * np.log(1 - h)).mean()"
   ]
  },
  {
   "cell_type": "code",
   "execution_count": 14,
   "metadata": {},
   "outputs": [
    {
     "data": {
      "text/plain": [
       "0.9472601469250691"
      ]
     },
     "execution_count": 14,
     "metadata": {},
     "output_type": "execute_result"
    }
   ],
   "source": [
    "loss_(h, y)"
   ]
  },
  {
   "cell_type": "markdown",
   "metadata": {},
   "source": [
    "## 3. Gradient descent <br>\n",
    "Gradient descent is used to update parameters of the model to find the smallest loss (smallest local minimum)"
   ]
  },
  {
   "cell_type": "code",
   "execution_count": 15,
   "metadata": {},
   "outputs": [],
   "source": [
    "# some testing\n",
    "gradient = np.dot(X.T, (h - y)) / y.shape[0]"
   ]
  },
  {
   "cell_type": "code",
   "execution_count": 16,
   "metadata": {},
   "outputs": [
    {
     "data": {
      "text/plain": [
       "array([[-0.47135586,  2.31614414, -0.47135586,  2.31614414, -0.47135586,\n",
       "         2.31614414,  2.31614414, -0.47135586, -0.47135586, -0.47135586,\n",
       "         2.31614414,  2.31614414, -0.47135586,  2.31614414, -0.47135586,\n",
       "         2.31614414, -0.47135586,  2.31614414,  2.31614414, -0.47135586]])"
      ]
     },
     "execution_count": 16,
     "metadata": {},
     "output_type": "execute_result"
    }
   ],
   "source": [
    "gradient"
   ]
  },
  {
   "cell_type": "code",
   "execution_count": 17,
   "metadata": {},
   "outputs": [],
   "source": [
    "def LogisticRegression(X,y,old_theta,alpha,treshold):\n",
    "    '''\n",
    "    LogisticRegression takes in data X, targets y, theta old_theta, learning rate alpha and loss treshold. \n",
    "    It iteratively updates the coefficients, \n",
    "    and stops once the loss function stops changing much. The function outputs coefficients and list of loss\n",
    "    values after each weight, bias update.\n",
    "    '''\n",
    "    loss_list = []\n",
    "\n",
    "    theta = old_theta.copy()\n",
    "\n",
    "    # initial loss value\n",
    "    h = sigmoid(X,theta)\n",
    "    loss = loss_(h,y)\n",
    "    loss_update = 0\n",
    "\n",
    "    index = 0\n",
    "\n",
    "    # compares loss value and stops once it stop changing by a chosen value\n",
    "    while(abs(loss-loss_update)> treshold):\n",
    "    #while(index<50):\n",
    "            # updates coefficients\n",
    "            gradient = np.dot(X.T, (h - y)) / y.shape[0]\n",
    "            theta[0] -= alpha * gradient\n",
    "            theta[1] -= alpha * np.mean(h-y)\n",
    "            \n",
    "            #updates probabilities\n",
    "            h = sigmoid(X,theta)\n",
    "            \n",
    "            loss = loss_update\n",
    "            loss_update=loss_(h,y)\n",
    "            loss_list.append(loss_update)\n",
    "            #print([loss,loss_update])\n",
    "            \n",
    "            index+=1\n",
    "\n",
    "\n",
    "    print('GD stopped at loss %s, with coefficients: %s' % (loss,theta), 'index', index)\n",
    "    return theta,loss_list,index"
   ]
  },
  {
   "cell_type": "code",
   "execution_count": 18,
   "metadata": {},
   "outputs": [
    {
     "name": "stdout",
     "output_type": "stream",
     "text": [
      "GD stopped at loss 0.580419256717834, with coefficients: [array([0.48517385]), array([-1.05516176])] index 34\n"
     ]
    }
   ],
   "source": [
    "old_theta = [np.random.rand(X_train.shape[1]),np.zeros((1,))]\n",
    "learning_rate = 0.5\n",
    "loss_treshold = 0.001\n",
    "theta, loss,iteration = LogisticRegression(X_train,y_train,old_theta,learning_rate,loss_treshold)"
   ]
  },
  {
   "cell_type": "code",
   "execution_count": 19,
   "metadata": {},
   "outputs": [
    {
     "data": {
      "text/plain": [
       "[array([0.48517385]), array([-1.05516176])]"
      ]
     },
     "execution_count": 19,
     "metadata": {},
     "output_type": "execute_result"
    }
   ],
   "source": [
    "theta"
   ]
  },
  {
   "cell_type": "code",
   "execution_count": 20,
   "metadata": {},
   "outputs": [
    {
     "data": {
      "text/plain": [
       "[0.6481563761236182,\n",
       " 0.6442990445004951,\n",
       " 0.6406295432055354,\n",
       " 0.6371192648043262,\n",
       " 0.6337602612111899,\n",
       " 0.630545888475604,\n",
       " 0.6274697987835431,\n",
       " 0.624525892884862,\n",
       " 0.6217083137183476,\n",
       " 0.6190114418537483,\n",
       " 0.6164298902523592,\n",
       " 0.6139584985102867,\n",
       " 0.61159232666475,\n",
       " 0.6093266486665019,\n",
       " 0.6071569456046642,\n",
       " 0.6050788987610397,\n",
       " 0.603088382561116,\n",
       " 0.6011814574801296,\n",
       " 0.599354362954428,\n",
       " 0.5976035103409669,\n",
       " 0.595925475961122,\n",
       " 0.594316994259004,\n",
       " 0.5927749510991369,\n",
       " 0.5912963772236234,\n",
       " 0.5898784418847597,\n",
       " 0.5885184466654025,\n",
       " 0.5872138194962144,\n",
       " 0.585962108876147,\n",
       " 0.5847609783001624,\n",
       " 0.583608200896154,\n",
       " 0.5825016542713097,\n",
       " 0.5814393155667226,\n",
       " 0.580419256717834,\n",
       " 0.579439639917314]"
      ]
     },
     "execution_count": 20,
     "metadata": {},
     "output_type": "execute_result"
    }
   ],
   "source": [
    "loss"
   ]
  },
  {
   "cell_type": "markdown",
   "metadata": {},
   "source": [
    "## Evalution on test set"
   ]
  },
  {
   "cell_type": "code",
   "execution_count": 21,
   "metadata": {},
   "outputs": [],
   "source": [
    "y_pred = sigmoid(X_test, theta)"
   ]
  },
  {
   "cell_type": "code",
   "execution_count": 22,
   "metadata": {},
   "outputs": [
    {
     "data": {
      "text/plain": [
       "array([0.44865476, 0.56931731, 0.33374809, 0.47880919, 0.83386827])"
      ]
     },
     "execution_count": 22,
     "metadata": {},
     "output_type": "execute_result"
    }
   ],
   "source": [
    "y_pred"
   ]
  },
  {
   "cell_type": "code",
   "execution_count": 23,
   "metadata": {},
   "outputs": [
    {
     "name": "stdout",
     "output_type": "stream",
     "text": [
      "[0. 1. 0. 0. 1.]\n"
     ]
    }
   ],
   "source": [
    "for i in range(len(y_pred)):\n",
    "    if y_pred[i] >= 0.5:\n",
    "        y_pred[i] = 1\n",
    "    else:\n",
    "        y_pred[i] = 0\n",
    "print (y_pred)"
   ]
  },
  {
   "cell_type": "code",
   "execution_count": 24,
   "metadata": {},
   "outputs": [
    {
     "name": "stdout",
     "output_type": "stream",
     "text": [
      "Mean squared error: 0.00\n"
     ]
    },
    {
     "data": {
      "image/png": "[encoded data removed]",
      "text/plain": [
       "<Figure size 432x288 with 1 Axes>"
      ]
     },
     "metadata": {
      "needs_background": "light"
     },
     "output_type": "display_data"
    }
   ],
   "source": [
    "from sklearn.metrics import mean_squared_error\n",
    "import matplotlib.pyplot as plt\n",
    "%matplotlib inline\n",
    "\n",
    "# The mean squared error\n",
    "print(\"Mean squared error: %.2f\"\n",
    "      % mean_squared_error(y_test, y_pred))\n",
    "\n",
    "\n",
    "plt.plot(y_test - 0.1,'g*')\n",
    "plt.plot(y_pred,'b.')\n",
    "plt.show()\n",
    "\n",
    "\n",
    "plt.show()"
   ]
  },
  {
   "cell_type": "code",
   "execution_count": 25,
   "metadata": {},
   "outputs": [],
   "source": [
    "import pandas as pd\n",
    "results_data = {'True':y_test, 'Predicted':y_pred}\n",
    "results = pd.DataFrame(results_data,columns = ['True','Predicted'])"
   ]
  },
  {
   "cell_type": "code",
   "execution_count": 26,
   "metadata": {},
   "outputs": [
    {
     "data": {
      "text/html": [
       "<div>\n",
       "<style scoped>\n",
       "    .dataframe tbody tr th:only-of-type {\n",
       "        vertical-align: middle;\n",
       "    }\n",
       "\n",
       "    .dataframe tbody tr th {\n",
       "        vertical-align: top;\n",
       "    }\n",
       "\n",
       "    .dataframe thead th {\n",
       "        text-align: right;\n",
       "    }\n",
       "</style>\n",
       "<table border=\"1\" class=\"dataframe\">\n",
       "  <thead>\n",
       "    <tr style=\"text-align: right;\">\n",
       "      <th></th>\n",
       "      <th>True</th>\n",
       "      <th>Predicted</th>\n",
       "    </tr>\n",
       "  </thead>\n",
       "  <tbody>\n",
       "    <tr>\n",
       "      <th>0</th>\n",
       "      <td>0</td>\n",
       "      <td>0.0</td>\n",
       "    </tr>\n",
       "    <tr>\n",
       "      <th>1</th>\n",
       "      <td>1</td>\n",
       "      <td>1.0</td>\n",
       "    </tr>\n",
       "    <tr>\n",
       "      <th>2</th>\n",
       "      <td>0</td>\n",
       "      <td>0.0</td>\n",
       "    </tr>\n",
       "    <tr>\n",
       "      <th>3</th>\n",
       "      <td>0</td>\n",
       "      <td>0.0</td>\n",
       "    </tr>\n",
       "    <tr>\n",
       "      <th>4</th>\n",
       "      <td>1</td>\n",
       "      <td>1.0</td>\n",
       "    </tr>\n",
       "  </tbody>\n",
       "</table>\n",
       "</div>"
      ],
      "text/plain": [
       "   True  Predicted\n",
       "0     0        0.0\n",
       "1     1        1.0\n",
       "2     0        0.0\n",
       "3     0        0.0\n",
       "4     1        1.0"
      ]
     },
     "execution_count": 26,
     "metadata": {},
     "output_type": "execute_result"
    }
   ],
   "source": [
    "results"
   ]
  },
  {
   "cell_type": "code",
   "execution_count": 27,
   "metadata": {},
   "outputs": [
    {
     "name": "stdout",
     "output_type": "stream",
     "text": [
      "ACCURACY =  1.0\n"
     ]
    }
   ],
   "source": [
    "print (\"ACCURACY = \",(y_pred== y_test).mean())"
   ]
  },
  {
   "cell_type": "markdown",
   "metadata": {},
   "source": [
    "1. [code] Implement logistic regression in python using batch gradient descent. Use your code to fit the data given above. Make sure you save the value of your loss function on each iteration in a data structure (e.g., list).  \n",
    " \n",
    "2. [writeup] In a markdown box, write a short report (no more than 400 words) that describes the workings of your code.  \n",
    " \n",
    "3. [question 1] After how many iterations, and for which learning rate (α) did your algorithm converge? Plot the loss function with respect to iterations to illustrate this point.   4. [question 2] What happens if α is too large? How does this affect the loss function? Plot the loss function with respect to iterations to illustrate this point. \n",
    " \n",
    "5. [question 3] Assume that you are applying logistic regression to the iris (flower) dataset, as in the previous assignment. Answer the following questions:  \n",
    "(a) How would your hypothesis function change in this case and why?  \n",
    " \n",
    "(b) How would you utilize your implementation of logistic regression in order to perform (multi-class) classification on the iris dataset? Include some pseudocode while discussing your approach.  "
   ]
  },
  {
   "cell_type": "markdown",
   "metadata": {},
   "source": [
    "## Report <br>\n",
    "bla bla"
   ]
  },
  {
   "cell_type": "markdown",
   "metadata": {},
   "source": [
    "### Question 1. <br>\n",
    "After how many iterations, and for which learning rate (α) did your algorithm converge? Plot the loss function with respect to iterations to illustrate this point. "
   ]
  },
  {
   "cell_type": "code",
   "execution_count": 28,
   "metadata": {},
   "outputs": [
    {
     "name": "stdout",
     "output_type": "stream",
     "text": [
      "My algorithm stopped at 34 iteration, for 0.5 learning rate\n"
     ]
    }
   ],
   "source": [
    "print('My algorithm stopped at %s iteration, for %s learning rate' % (iteration,learning_rate) )"
   ]
  },
  {
   "cell_type": "code",
   "execution_count": 29,
   "metadata": {},
   "outputs": [
    {
     "data": {
      "image/png": "[encoded data removed]",
      "text/plain": [
       "<Figure size 432x288 with 1 Axes>"
      ]
     },
     "metadata": {
      "needs_background": "light"
     },
     "output_type": "display_data"
    }
   ],
   "source": [
    "from sklearn.metrics import mean_squared_error\n",
    "import matplotlib.pyplot as plt\n",
    "%matplotlib inline\n",
    "\n",
    "plt.plot(np.arange(iteration),loss)\n",
    "plt.xlabel(\"loss\")\n",
    "plt.ylabel(\"iterations\")\n",
    "plt.show()"
   ]
  },
  {
   "cell_type": "markdown",
   "metadata": {},
   "source": [
    "### Question 2. <br>\n",
    "\n",
    "What happens if α is too large? How does this affect the loss function? Plot the loss function with respect to iterations to illustrate this point."
   ]
  },
  {
   "cell_type": "code",
   "execution_count": 30,
   "metadata": {},
   "outputs": [
    {
     "name": "stdout",
     "output_type": "stream",
     "text": [
      "GD stopped at loss 0.692452666183107, with coefficients: [array([1.7721375]), array([-5.74256388])] index 47\n"
     ]
    }
   ],
   "source": [
    "old_theta = [np.random.rand(X_train.shape[1]),np.zeros((1,))]\n",
    "learning_rate = 3\n",
    "loss_treshold = 0.01\n",
    "theta, loss,iteration = LogisticRegression(X_train,y_train,old_theta,learning_rate,loss_treshold)"
   ]
  },
  {
   "cell_type": "code",
   "execution_count": 31,
   "metadata": {},
   "outputs": [
    {
     "data": {
      "image/png": "[encoded data removed]",
      "text/plain": [
       "<Figure size 432x288 with 1 Axes>"
      ]
     },
     "metadata": {
      "needs_background": "light"
     },
     "output_type": "display_data"
    }
   ],
   "source": [
    "from sklearn.metrics import mean_squared_error\n",
    "import matplotlib.pyplot as plt\n",
    "%matplotlib inline\n",
    "\n",
    "plt.plot(np.arange(iteration),loss)\n",
    "plt.xlabel(\"loss\")\n",
    "plt.ylabel(\"iterations\")\n",
    "plt.show()"
   ]
  },
  {
   "cell_type": "markdown",
   "metadata": {},
   "source": [
    "Model is overfitting"
   ]
  }
 ],
 "metadata": {
  "kernelspec": {
   "display_name": "Python 3",
   "language": "python",
   "name": "python3"
  },
  "language_info": {
   "codemirror_mode": {
    "name": "ipython",
    "version": 3
   },
   "file_extension": ".py",
   "mimetype": "text/x-python",
   "name": "python",
   "nbconvert_exporter": "python",
   "pygments_lexer": "ipython3",
   "version": "3.5.6"
  }
 },
 "nbformat": 4,
 "nbformat_minor": 4
}
