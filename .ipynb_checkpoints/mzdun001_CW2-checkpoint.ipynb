{
 "cells": [
  {
   "cell_type": "markdown",
   "metadata": {},
   "source": [
    "Hours\t0.50  |\t0.75  |\t1.00  |\t1.25  |\t1.50  |\t 1.75  |   1.75  |  2.00  | \t2.25 |\t2.50 |\t2.75 |\t3.00 |\t3.25 |\t3.50 |\t4.00 |\t4.25 |\t4.50 |\t4.75 |\t5.00 |\t5.50 |\n",
    "<br>\n",
    "Pass\t0 |\t0 |\t0 |\t0 |\t0 |\t0 |\t1 |\t0 |\t1 |\t0 |\t1 |0 |1 |\t0 |\t1 |\t1 |\t1 |\t1 |\t1 |\t1"
   ]
  },
  {
   "cell_type": "markdown",
   "metadata": {},
   "source": [
    "In general, to do: 1. Link tutorials. 2. comments, doc strings. 3. report 4. questions "
   ]
  },
  {
   "cell_type": "markdown",
   "metadata": {},
   "source": [
    "https://medium.com/@martinpella/logistic-regression-from-scratch-in-python-124c5636b8ac <br>\n",
    "https://predictiveprogrammer.com/machine-learning-from-scratch-logistic-regression/"
   ]
  },
  {
   "cell_type": "code",
   "execution_count": 1,
   "metadata": {},
   "outputs": [],
   "source": [
    "import numpy as np\n",
    "X = np.asarray ([[0.50], [0.75], [1.00], [1.25], [1.50], [1.75], [3.00], [4.75], [1.75], [3.25], [5.00], [2.00], [2.25], [2.50], [2.75], [3.50], [4.00], [4.25], [4.50], [5.50]]) \n",
    "y = np.asarray([0, 0, 0, 0, 0, 0, 1, 0, 1, 0, 1,0,1,0,1,1,1,1,1,1])"
   ]
  },
  {
   "cell_type": "code",
   "execution_count": 2,
   "metadata": {},
   "outputs": [],
   "source": [
    "X_train, y_train, X_test, y_test = X[:15], y[:15], X[15:], y[15:]"
   ]
  },
  {
   "cell_type": "markdown",
   "metadata": {},
   "source": [
    "## 1. Hypothesis. <br>\n",
    "A function takes inputs and returns outputs. To generate probabilities, logistic regression uses a function that gives outputs between 0 and 1 for all values of X. There are many functions that meet this description, but the used in this case is the logistic function. From here we will refer to it as sigmoid."
   ]
  },
  {
   "cell_type": "code",
   "execution_count": 3,
   "metadata": {},
   "outputs": [],
   "source": [
    "def sigmoid(X,theta):\n",
    "    z = np.dot(X, theta[0]) + theta[1]\n",
    "    #print(z)\n",
    "    return 1 / (1 + np.exp(-z))\n",
    "\n",
    "\n",
    "weights = [np.random.rand(X.shape[1], 1),np.zeros((1,))]\n",
    "h = sigmoid(X,weights)"
   ]
  },
  {
   "cell_type": "code",
   "execution_count": 4,
   "metadata": {},
   "outputs": [
    {
     "data": {
      "text/plain": [
       "[array([[0.33021132]]), array([0.])]"
      ]
     },
     "execution_count": 4,
     "metadata": {},
     "output_type": "execute_result"
    }
   ],
   "source": [
    "weights"
   ]
  },
  {
   "cell_type": "code",
   "execution_count": 5,
   "metadata": {},
   "outputs": [
    {
     "data": {
      "text/plain": [
       "array([[0.5411829 ],\n",
       "       [0.56160009],\n",
       "       [0.58181079],\n",
       "       [0.60175048],\n",
       "       [0.62135817],\n",
       "       [0.6405771 ],\n",
       "       [0.72921312],\n",
       "       [0.8275702 ],\n",
       "       [0.6405771 ],\n",
       "       [0.74520248],\n",
       "       [0.8390338 ],\n",
       "       [0.65935532],\n",
       "       [0.67764617],\n",
       "       [0.69540858],\n",
       "       [0.71260734],\n",
       "       [0.76055772],\n",
       "       [0.7893223 ],\n",
       "       [0.80272256],\n",
       "       [0.81546975],\n",
       "       [0.86010499]])"
      ]
     },
     "execution_count": 5,
     "metadata": {},
     "output_type": "execute_result"
    }
   ],
   "source": [
    "h"
   ]
  },
  {
   "cell_type": "markdown",
   "metadata": {},
   "source": [
    "## 2. Loss function <br>\n",
    "Functions have parameters/weights (represented by theta in our notation) and we want to find the best values for them. To start we pick random values and we need a way to measure how well the algorithm performs using those random weights. That measure is computed using the loss function, defined as:"
   ]
  },
  {
   "cell_type": "markdown",
   "metadata": {},
   "source": [
    "To do: understand loss function and fix it possibly"
   ]
  },
  {
   "cell_type": "code",
   "execution_count": 6,
   "metadata": {},
   "outputs": [],
   "source": [
    "def loss_(h, y):\n",
    "    return (-y * np.log(h) - (1 - y) * np.log(1 - h)).mean()"
   ]
  },
  {
   "cell_type": "code",
   "execution_count": 7,
   "metadata": {},
   "outputs": [
    {
     "data": {
      "text/plain": [
       "0.8189412166591064"
      ]
     },
     "execution_count": 7,
     "metadata": {},
     "output_type": "execute_result"
    }
   ],
   "source": [
    "loss_(h, y)"
   ]
  },
  {
   "cell_type": "code",
   "execution_count": null,
   "metadata": {},
   "outputs": [],
   "source": []
  },
  {
   "cell_type": "markdown",
   "metadata": {},
   "source": [
    "## 3. Gradient descent <br>\n",
    "Our goal is to minimize the loss function and the way we have to achive it is by increasing/decreasing the weights, i.e. fitting them. The question is, how do we know what parameters should be biggers and what parameters should be smallers? The answer is given by the derivative of the loss function with respect to each weight. It tells us how loss would change if we modified the parameters."
   ]
  },
  {
   "cell_type": "code",
   "execution_count": 8,
   "metadata": {},
   "outputs": [],
   "source": [
    "gradient = np.dot(X.T, (h - y)) / y.shape[0]"
   ]
  },
  {
   "cell_type": "code",
   "execution_count": 9,
   "metadata": {},
   "outputs": [
    {
     "data": {
      "text/plain": [
       "array([[ 2.1054066,  2.1054066,  2.1054066,  2.1054066,  2.1054066,\n",
       "         2.1054066, -0.6820934,  2.1054066, -0.6820934,  2.1054066,\n",
       "        -0.6820934,  2.1054066, -0.6820934,  2.1054066, -0.6820934,\n",
       "        -0.6820934, -0.6820934, -0.6820934, -0.6820934, -0.6820934]])"
      ]
     },
     "execution_count": 9,
     "metadata": {},
     "output_type": "execute_result"
    }
   ],
   "source": [
    "gradient"
   ]
  },
  {
   "cell_type": "code",
   "execution_count": 10,
   "metadata": {},
   "outputs": [
    {
     "data": {
      "text/plain": [
       "[array([[0.33021132]]), array([0.])]"
      ]
     },
     "execution_count": 10,
     "metadata": {},
     "output_type": "execute_result"
    }
   ],
   "source": [
    "weights"
   ]
  },
  {
   "cell_type": "markdown",
   "metadata": {},
   "source": [
    "To do: understand calculating gradient -> shouldn't be the same as linear reg? see"
   ]
  },
  {
   "cell_type": "code",
   "execution_count": 11,
   "metadata": {},
   "outputs": [],
   "source": [
    "def LogisticRegression(X,y,old_theta,alpha,treshold):\n",
    "    loss_list = []\n",
    "\n",
    "    theta = old_theta.copy()\n",
    "\n",
    "    loss = loss_(sigmoid(X,theta),y)\n",
    "    loss_update = 0\n",
    "\n",
    "    index = 0\n",
    "\n",
    "    \n",
    "    while(abs(loss-loss_update)> treshold):\n",
    "    #while(index<50):\n",
    "            \n",
    "            h = sigmoid(X,theta)\n",
    "            \n",
    "            gradient = np.dot(X.T, (h - y)) / y.shape[0]\n",
    "            #print(gradient)\n",
    "            theta[0] -= alpha * gradient\n",
    "            #print('theta update', theta)\n",
    "            theta[1] -= alpha * np.mean(h-y)\n",
    "            \n",
    "            h = sigmoid(X,theta)\n",
    "            \n",
    "            loss = loss_update\n",
    "            loss_update=loss_(h,y)\n",
    "            loss_list.append(loss_update)\n",
    "            #print([loss,loss_update])\n",
    "            \n",
    "            index+=1\n",
    "\n",
    "\n",
    "    print('GD stopped at loss %s, with coefficients: %s' % (loss,theta), 'index', index)\n",
    "    return theta,loss_list"
   ]
  },
  {
   "cell_type": "code",
   "execution_count": 28,
   "metadata": {},
   "outputs": [
    {
     "name": "stdout",
     "output_type": "stream",
     "text": [
      "GD stopped at loss 0.5785958227001309, with coefficients: [array([0.39449148]), array([-1.48190368])] index 25\n"
     ]
    }
   ],
   "source": [
    "old_theta = [np.random.rand(X_train.shape[1]),np.zeros((1,))]\n",
    "learning_rate = 0.9\n",
    "loss_treshold = 0.001\n",
    "theta, loss = LogisticRegression(X_train,y_train,old_theta,learning_rate,loss_treshold)"
   ]
  },
  {
   "cell_type": "code",
   "execution_count": 29,
   "metadata": {},
   "outputs": [
    {
     "data": {
      "text/plain": [
       "[array([0.39449148]), array([-1.48190368])]"
      ]
     },
     "execution_count": 29,
     "metadata": {},
     "output_type": "execute_result"
    }
   ],
   "source": [
    "theta"
   ]
  },
  {
   "cell_type": "code",
   "execution_count": 30,
   "metadata": {},
   "outputs": [
    {
     "data": {
      "text/plain": [
       "[0.6967104699081853,\n",
       " 0.6565298310869803,\n",
       " 0.6438217054514442,\n",
       " 0.6346258407917317,\n",
       " 0.62789915870218,\n",
       " 0.6222570880932162,\n",
       " 0.6173790215467064,\n",
       " 0.6130384585255066,\n",
       " 0.6091319804301064,\n",
       " 0.6055915139627559,\n",
       " 0.6023707651223381,\n",
       " 0.5994343002589312,\n",
       " 0.5967528456646538,\n",
       " 0.5943014671716144,\n",
       " 0.5920582055277384,\n",
       " 0.5900036097909609,\n",
       " 0.588120254302949,\n",
       " 0.5863925140631182,\n",
       " 0.58480632189418,\n",
       " 0.583349007712038,\n",
       " 0.582009138587066,\n",
       " 0.5807763914204064,\n",
       " 0.5796414339123235,\n",
       " 0.5785958227001309,\n",
       " 0.5776319108977883]"
      ]
     },
     "execution_count": 30,
     "metadata": {},
     "output_type": "execute_result"
    }
   ],
   "source": [
    "loss"
   ]
  },
  {
   "cell_type": "code",
   "execution_count": 31,
   "metadata": {},
   "outputs": [],
   "source": [
    "y_pred = sigmoid(X_test, theta)"
   ]
  },
  {
   "cell_type": "code",
   "execution_count": 32,
   "metadata": {},
   "outputs": [
    {
     "data": {
      "text/plain": [
       "array([0.47472568, 0.52399711, 0.54851813, 0.57280579, 0.66547723])"
      ]
     },
     "execution_count": 32,
     "metadata": {},
     "output_type": "execute_result"
    }
   ],
   "source": [
    "y_pred"
   ]
  },
  {
   "cell_type": "code",
   "execution_count": 33,
   "metadata": {},
   "outputs": [
    {
     "name": "stdout",
     "output_type": "stream",
     "text": [
      "[0. 1. 1. 1. 1.]\n"
     ]
    }
   ],
   "source": [
    "for i in range(len(y_pred)):\n",
    "    if y_pred[i] >= 0.5:\n",
    "        y_pred[i] = 1\n",
    "    else:\n",
    "        y_pred[i] = 0\n",
    "print (y_pred)"
   ]
  },
  {
   "cell_type": "code",
   "execution_count": 36,
   "metadata": {},
   "outputs": [
    {
     "name": "stdout",
     "output_type": "stream",
     "text": [
      "Mean squared error: 0.20\n"
     ]
    },
    {
     "data": {
      "image/png": "[encoded data removed]",
      "text/plain": [
       "<Figure size 432x288 with 1 Axes>"
      ]
     },
     "metadata": {
      "needs_background": "light"
     },
     "output_type": "display_data"
    }
   ],
   "source": [
    "from sklearn.metrics import mean_squared_error\n",
    "import matplotlib.pyplot as plt\n",
    "%matplotlib inline\n",
    "\n",
    "# The mean squared error\n",
    "print(\"Mean squared error: %.2f\"\n",
    "      % mean_squared_error(y_test, y_pred))\n",
    "\n",
    "\n",
    "plt.plot(y_test - 0.1,'g*')\n",
    "plt.plot(y_pred,'b.')\n",
    "plt.show()\n",
    "\n",
    "\n",
    "plt.show()"
   ]
  },
  {
   "cell_type": "code",
   "execution_count": 37,
   "metadata": {},
   "outputs": [],
   "source": [
    "import pandas as pd\n",
    "results_data = {'True':y_test, 'Predicted':y_pred}\n",
    "results = pd.DataFrame(results_data,columns = ['True','Predicted'])"
   ]
  },
  {
   "cell_type": "code",
   "execution_count": 38,
   "metadata": {},
   "outputs": [
    {
     "data": {
      "text/html": [
       "<div>\n",
       "<style scoped>\n",
       "    .dataframe tbody tr th:only-of-type {\n",
       "        vertical-align: middle;\n",
       "    }\n",
       "\n",
       "    .dataframe tbody tr th {\n",
       "        vertical-align: top;\n",
       "    }\n",
       "\n",
       "    .dataframe thead th {\n",
       "        text-align: right;\n",
       "    }\n",
       "</style>\n",
       "<table border=\"1\" class=\"dataframe\">\n",
       "  <thead>\n",
       "    <tr style=\"text-align: right;\">\n",
       "      <th></th>\n",
       "      <th>True</th>\n",
       "      <th>Predicted</th>\n",
       "    </tr>\n",
       "  </thead>\n",
       "  <tbody>\n",
       "    <tr>\n",
       "      <th>0</th>\n",
       "      <td>1</td>\n",
       "      <td>0.0</td>\n",
       "    </tr>\n",
       "    <tr>\n",
       "      <th>1</th>\n",
       "      <td>1</td>\n",
       "      <td>1.0</td>\n",
       "    </tr>\n",
       "    <tr>\n",
       "      <th>2</th>\n",
       "      <td>1</td>\n",
       "      <td>1.0</td>\n",
       "    </tr>\n",
       "    <tr>\n",
       "      <th>3</th>\n",
       "      <td>1</td>\n",
       "      <td>1.0</td>\n",
       "    </tr>\n",
       "    <tr>\n",
       "      <th>4</th>\n",
       "      <td>1</td>\n",
       "      <td>1.0</td>\n",
       "    </tr>\n",
       "  </tbody>\n",
       "</table>\n",
       "</div>"
      ],
      "text/plain": [
       "   True  Predicted\n",
       "0     1        0.0\n",
       "1     1        1.0\n",
       "2     1        1.0\n",
       "3     1        1.0\n",
       "4     1        1.0"
      ]
     },
     "execution_count": 38,
     "metadata": {},
     "output_type": "execute_result"
    }
   ],
   "source": [
    "results"
   ]
  },
  {
   "cell_type": "code",
   "execution_count": 40,
   "metadata": {},
   "outputs": [
    {
     "name": "stdout",
     "output_type": "stream",
     "text": [
      "ACCURACY =  0.8\n"
     ]
    }
   ],
   "source": [
    "print (\"ACCURACY = \",(y_pred== y_test).mean())"
   ]
  },
  {
   "cell_type": "code",
   "execution_count": null,
   "metadata": {},
   "outputs": [],
   "source": []
  },
  {
   "cell_type": "code",
   "execution_count": null,
   "metadata": {},
   "outputs": [],
   "source": []
  }
 ],
 "metadata": {
  "kernelspec": {
   "display_name": "Python 3",
   "language": "python",
   "name": "python3"
  },
  "language_info": {
   "codemirror_mode": {
    "name": "ipython",
    "version": 3
   },
   "file_extension": ".py",
   "mimetype": "text/x-python",
   "name": "python",
   "nbconvert_exporter": "python",
   "pygments_lexer": "ipython3",
   "version": "3.5.6"
  }
 },
 "nbformat": 4,
 "nbformat_minor": 4
}
