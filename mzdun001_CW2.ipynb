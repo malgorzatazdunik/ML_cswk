{
 "cells": [
  {
   "cell_type": "markdown",
   "metadata": {},
   "source": [
    "Hours\t0.50  |\t0.75  |\t1.00  |\t1.25  |\t1.50  |\t 1.75  |   1.75  |  2.00  | \t2.25 |\t2.50 |\t2.75 |\t3.00 |\t3.25 |\t3.50 |\t4.00 |\t4.25 |\t4.50 |\t4.75 |\t5.00 |\t5.50 |\n",
    "<br>\n",
    "Pass\t0 |\t0 |\t0 |\t0 |\t0 |\t0 |\t1 |\t0 |\t1 |\t0 |\t1 |0 |1 |\t0 |\t1 |\t1 |\t1 |\t1 |\t1 |\t1"
   ]
  },
  {
   "cell_type": "markdown",
   "metadata": {},
   "source": [
    "In general, to do: 1. Link tutorials. 2. comments, doc strings. 3. report 4. questions "
   ]
  },
  {
   "cell_type": "markdown",
   "metadata": {},
   "source": [
    "https://medium.com/@martinpella/logistic-regression-from-scratch-in-python-124c5636b8ac <br>\n",
    "https://predictiveprogrammer.com/machine-learning-from-scratch-logistic-regression/"
   ]
  },
  {
   "cell_type": "code",
   "execution_count": 1,
   "metadata": {},
   "outputs": [],
   "source": [
    "import numpy as np\n",
    "X = np.asarray ([[0.50], [0.75], [1.00], [1.25], [1.50], [1.75], [3.00], [4.75], [1.75], [3.25], [5.00], [2.00], [2.25], [2.50], [2.75], [3.50], [4.00], [4.25], [4.50], [5.50]]) \n",
    "y = np.asarray([0, 0, 0, 0, 0, 0, 1, 0, 1, 0, 1,0,1,0,1,1,1,1,1,1])"
   ]
  },
  {
   "cell_type": "code",
   "execution_count": 2,
   "metadata": {},
   "outputs": [],
   "source": [
    "indices = np.arange(len(X))"
   ]
  },
  {
   "cell_type": "code",
   "execution_count": 3,
   "metadata": {},
   "outputs": [
    {
     "name": "stdout",
     "output_type": "stream",
     "text": [
      "[ 0  1  2  3  4  5  6  7  8  9 10 11 12 13 14 15 16 17 18 19]\n"
     ]
    }
   ],
   "source": [
    "print(indices)"
   ]
  },
  {
   "cell_type": "code",
   "execution_count": 4,
   "metadata": {},
   "outputs": [],
   "source": [
    "np.random.shuffle(indices)"
   ]
  },
  {
   "cell_type": "code",
   "execution_count": 5,
   "metadata": {},
   "outputs": [
    {
     "name": "stdout",
     "output_type": "stream",
     "text": [
      "[ 9 18 19  8  0  2 16  3  4 11 14 10 12 13  7 17  6 15  1  5]\n"
     ]
    }
   ],
   "source": [
    "print(indices)"
   ]
  },
  {
   "cell_type": "code",
   "execution_count": 6,
   "metadata": {},
   "outputs": [],
   "source": [
    "X = X[indices]\n",
    "y = y[indices]"
   ]
  },
  {
   "cell_type": "code",
   "execution_count": 7,
   "metadata": {},
   "outputs": [
    {
     "name": "stdout",
     "output_type": "stream",
     "text": [
      "[[3.25]\n",
      " [4.5 ]\n",
      " [5.5 ]\n",
      " [1.75]\n",
      " [0.5 ]\n",
      " [1.  ]\n",
      " [4.  ]\n",
      " [1.25]\n",
      " [1.5 ]\n",
      " [2.  ]\n",
      " [2.75]\n",
      " [5.  ]\n",
      " [2.25]\n",
      " [2.5 ]\n",
      " [4.75]\n",
      " [4.25]\n",
      " [3.  ]\n",
      " [3.5 ]\n",
      " [0.75]\n",
      " [1.75]] [0 1 1 1 0 0 1 0 0 0 1 1 1 0 0 1 1 1 0 0]\n"
     ]
    }
   ],
   "source": [
    "print(X,y)"
   ]
  },
  {
   "cell_type": "code",
   "execution_count": 8,
   "metadata": {},
   "outputs": [],
   "source": [
    "X_train, y_train, X_test, y_test = X[:15], y[:15], X[15:], y[15:]"
   ]
  },
  {
   "cell_type": "code",
   "execution_count": 9,
   "metadata": {},
   "outputs": [
    {
     "data": {
      "text/plain": [
       "array([[3.25],\n",
       "       [4.5 ],\n",
       "       [5.5 ],\n",
       "       [1.75],\n",
       "       [0.5 ],\n",
       "       [1.  ],\n",
       "       [4.  ],\n",
       "       [1.25],\n",
       "       [1.5 ],\n",
       "       [2.  ],\n",
       "       [2.75],\n",
       "       [5.  ],\n",
       "       [2.25],\n",
       "       [2.5 ],\n",
       "       [4.75]])"
      ]
     },
     "execution_count": 9,
     "metadata": {},
     "output_type": "execute_result"
    }
   ],
   "source": [
    "X_train"
   ]
  },
  {
   "cell_type": "markdown",
   "metadata": {},
   "source": [
    "## 1. Hypothesis. <br>\n",
    "The hypothesis function for logistic regression gives outputs between 0 and 1 for all values of X."
   ]
  },
  {
   "cell_type": "code",
   "execution_count": 10,
   "metadata": {},
   "outputs": [],
   "source": [
    "def sigmoid(X,theta):\n",
    "    '''\n",
    "    Sigmoid function takes in data X and coefficients (weights, bias) theta. Calculates z: dot product of X and theta[0]\n",
    "    adds theta[1] and returns 1 divided by 1 + element-wise exponential of (-z).\n",
    "\n",
    "    '''\n",
    "    z = np.dot(X, theta[0]) + theta[1]\n",
    "    #print(z)\n",
    "    return 1 / (1 + np.exp(-z))\n",
    "\n",
    "# some testing\n",
    "weights = [np.random.rand(X.shape[1], 1),np.zeros((1,))]\n",
    "h = sigmoid(X,weights)"
   ]
  },
  {
   "cell_type": "code",
   "execution_count": 11,
   "metadata": {},
   "outputs": [
    {
     "data": {
      "text/plain": [
       "[array([[0.69862337]]), array([0.])]"
      ]
     },
     "execution_count": 11,
     "metadata": {},
     "output_type": "execute_result"
    }
   ],
   "source": [
    "weights"
   ]
  },
  {
   "cell_type": "code",
   "execution_count": 12,
   "metadata": {},
   "outputs": [
    {
     "data": {
      "text/plain": [
       "array([[0.90640642],\n",
       "       [0.95866393],\n",
       "       [0.97900862],\n",
       "       [0.77251918],\n",
       "       [0.58645065],\n",
       "       [0.66788248],\n",
       "       [0.94237754],\n",
       "       [0.70542758],\n",
       "       [0.74037818],\n",
       "       [0.80174662],\n",
       "       [0.87227378],\n",
       "       [0.97049129],\n",
       "       [0.82805467],\n",
       "       [0.85151819],\n",
       "       [0.96505673],\n",
       "       [0.95116077],\n",
       "       [0.89050113],\n",
       "       [0.92020839],\n",
       "       [0.62807504],\n",
       "       [0.77251918]])"
      ]
     },
     "execution_count": 12,
     "metadata": {},
     "output_type": "execute_result"
    }
   ],
   "source": [
    "h"
   ]
  },
  {
   "cell_type": "markdown",
   "metadata": {},
   "source": [
    "## 2. Loss function <br>\n",
    "Loss function is used to measure how well the algorithm is performing. "
   ]
  },
  {
   "cell_type": "code",
   "execution_count": 13,
   "metadata": {},
   "outputs": [],
   "source": [
    "def loss_(h, y):\n",
    "    '''\n",
    "    Loss function takes in probabilities calculated by the sigmoid (logistic) function and outputs loss according\n",
    "    to the labels.\n",
    "    '''\n",
    "    return (-y * np.log(h) - (1 - y) * np.log(1 - h)).mean()"
   ]
  },
  {
   "cell_type": "code",
   "execution_count": 14,
   "metadata": {},
   "outputs": [
    {
     "data": {
      "text/plain": [
       "1.1642532489074453"
      ]
     },
     "execution_count": 14,
     "metadata": {},
     "output_type": "execute_result"
    }
   ],
   "source": [
    "loss_(h, y)"
   ]
  },
  {
   "cell_type": "markdown",
   "metadata": {},
   "source": [
    "## 3. Gradient descent <br>\n",
    "Gradient descent is used to update parameters of the model to find the smallest loss (smallest local minimum)"
   ]
  },
  {
   "cell_type": "code",
   "execution_count": 15,
   "metadata": {},
   "outputs": [],
   "source": [
    "# some testing\n",
    "gradient = np.dot(X.T, (h - y)) / y.shape[0]"
   ]
  },
  {
   "cell_type": "code",
   "execution_count": 16,
   "metadata": {},
   "outputs": [
    {
     "data": {
      "text/plain": [
       "array([[ 2.49537528, -0.29212472, -0.29212472, -0.29212472,  2.49537528,\n",
       "         2.49537528, -0.29212472,  2.49537528,  2.49537528,  2.49537528,\n",
       "        -0.29212472, -0.29212472, -0.29212472,  2.49537528,  2.49537528,\n",
       "        -0.29212472, -0.29212472, -0.29212472,  2.49537528,  2.49537528]])"
      ]
     },
     "execution_count": 16,
     "metadata": {},
     "output_type": "execute_result"
    }
   ],
   "source": [
    "gradient"
   ]
  },
  {
   "cell_type": "code",
   "execution_count": 17,
   "metadata": {},
   "outputs": [],
   "source": [
    "def LogisticRegression(X,y,old_theta,alpha,treshold):\n",
    "    '''\n",
    "    LogisticRegression takes in data X, targets y, theta old_theta, learning rate alpha and loss treshold. \n",
    "    It iteratively updates the coefficients, \n",
    "    and stops once the loss function stops changing much. The function outputs coefficients and list of loss\n",
    "    values after each weight, bias update.\n",
    "    '''\n",
    "    loss_list = []\n",
    "\n",
    "    theta = old_theta.copy()\n",
    "\n",
    "    # initial loss value\n",
    "    h = sigmoid(X,theta)\n",
    "    loss = loss_(h,y)\n",
    "    loss_update = 0\n",
    "\n",
    "    index = 0\n",
    "\n",
    "    # compares loss value and stops once it stop changing by a chosen value\n",
    "    while(abs(loss-loss_update)> treshold):\n",
    "    #while(index<50):\n",
    "            # updates coefficients\n",
    "            gradient = np.dot(X.T, (h - y)) / y.shape[0]\n",
    "            theta[0] -= alpha * gradient\n",
    "            theta[1] -= alpha * np.mean(h-y)\n",
    "            \n",
    "            #updates probabilities\n",
    "            h = sigmoid(X,theta)\n",
    "            \n",
    "            loss = loss_update\n",
    "            loss_update=loss_(h,y)\n",
    "            loss_list.append(loss_update)\n",
    "            #print([loss,loss_update])\n",
    "            \n",
    "            index+=1\n",
    "\n",
    "\n",
    "    print('GD stopped at loss %s, with coefficients: %s' % (loss,theta), 'index', index)\n",
    "    return theta,loss_list"
   ]
  },
  {
   "cell_type": "code",
   "execution_count": 18,
   "metadata": {},
   "outputs": [
    {
     "name": "stdout",
     "output_type": "stream",
     "text": [
      "GD stopped at loss 0.5702101753271549, with coefficients: [array([0.48991188]), array([-1.34212625])] index 39\n"
     ]
    }
   ],
   "source": [
    "old_theta = [np.random.rand(X_train.shape[1]),np.zeros((1,))]\n",
    "learning_rate = 0.5\n",
    "loss_treshold = 0.001\n",
    "theta, loss = LogisticRegression(X_train,y_train,old_theta,learning_rate,loss_treshold)"
   ]
  },
  {
   "cell_type": "code",
   "execution_count": 19,
   "metadata": {},
   "outputs": [
    {
     "data": {
      "text/plain": [
       "[array([0.48991188]), array([-1.34212625])]"
      ]
     },
     "execution_count": 19,
     "metadata": {},
     "output_type": "execute_result"
    }
   ],
   "source": [
    "theta"
   ]
  },
  {
   "cell_type": "code",
   "execution_count": 20,
   "metadata": {},
   "outputs": [
    {
     "data": {
      "text/plain": [
       "[0.6704788957636176,\n",
       " 0.6645437671883095,\n",
       " 0.6589803930835816,\n",
       " 0.6537072115709123,\n",
       " 0.6487029034135862,\n",
       " 0.643952724099472,\n",
       " 0.6394432044124126,\n",
       " 0.6351615818061206,\n",
       " 0.6310957303501349,\n",
       " 0.6272341366848901,\n",
       " 0.623565879408356,\n",
       " 0.6200806075051014,\n",
       " 0.616768517976422,\n",
       " 0.613620332932594,\n",
       " 0.6106272764548923,\n",
       " 0.6077810514697484,\n",
       " 0.6050738168402359,\n",
       " 0.6024981648402181,\n",
       " 0.6000470991435102,\n",
       " 0.5977140134312697,\n",
       " 0.5954926706959104,\n",
       " 0.5933771832985522,\n",
       " 0.5913619938190295,\n",
       " 0.5894418567224261,\n",
       " 0.5876118208535961,\n",
       " 0.5858672127608843,\n",
       " 0.5842036208419417,\n",
       " 0.5826168802978933,\n",
       " 0.5811030588768983,\n",
       " 0.5796584433841455,\n",
       " 0.5782795269323443,\n",
       " 0.5769629969046515,\n",
       " 0.5757057236005593,\n",
       " 0.5745047495344425,\n",
       " 0.5733572793561184,\n",
       " 0.5722606703628068,\n",
       " 0.5712124235722268,\n",
       " 0.5702101753271549,\n",
       " 0.5692516894025488]"
      ]
     },
     "execution_count": 20,
     "metadata": {},
     "output_type": "execute_result"
    }
   ],
   "source": [
    "loss"
   ]
  },
  {
   "cell_type": "markdown",
   "metadata": {},
   "source": [
    "## Evalution on test set"
   ]
  },
  {
   "cell_type": "code",
   "execution_count": 21,
   "metadata": {},
   "outputs": [],
   "source": [
    "y_pred = sigmoid(X_test, theta)"
   ]
  },
  {
   "cell_type": "code",
   "execution_count": 22,
   "metadata": {},
   "outputs": [
    {
     "data": {
      "text/plain": [
       "array([0.67699569, 0.53185912, 0.59207871, 0.27394621, 0.38112393])"
      ]
     },
     "execution_count": 22,
     "metadata": {},
     "output_type": "execute_result"
    }
   ],
   "source": [
    "y_pred"
   ]
  },
  {
   "cell_type": "code",
   "execution_count": 23,
   "metadata": {},
   "outputs": [
    {
     "name": "stdout",
     "output_type": "stream",
     "text": [
      "[1. 1. 1. 0. 0.]\n"
     ]
    }
   ],
   "source": [
    "for i in range(len(y_pred)):\n",
    "    if y_pred[i] >= 0.5:\n",
    "        y_pred[i] = 1\n",
    "    else:\n",
    "        y_pred[i] = 0\n",
    "print (y_pred)"
   ]
  },
  {
   "cell_type": "code",
   "execution_count": 24,
   "metadata": {},
   "outputs": [
    {
     "name": "stdout",
     "output_type": "stream",
     "text": [
      "Mean squared error: 0.00\n"
     ]
    },
    {
     "data": {
      "image/png": "[encoded data removed]",
      "text/plain": [
       "<Figure size 432x288 with 1 Axes>"
      ]
     },
     "metadata": {
      "needs_background": "light"
     },
     "output_type": "display_data"
    }
   ],
   "source": [
    "from sklearn.metrics import mean_squared_error\n",
    "import matplotlib.pyplot as plt\n",
    "%matplotlib inline\n",
    "\n",
    "# The mean squared error\n",
    "print(\"Mean squared error: %.2f\"\n",
    "      % mean_squared_error(y_test, y_pred))\n",
    "\n",
    "\n",
    "plt.plot(y_test - 0.1,'g*')\n",
    "plt.plot(y_pred,'b.')\n",
    "plt.show()\n",
    "\n",
    "\n",
    "plt.show()"
   ]
  },
  {
   "cell_type": "code",
   "execution_count": 25,
   "metadata": {},
   "outputs": [],
   "source": [
    "import pandas as pd\n",
    "results_data = {'True':y_test, 'Predicted':y_pred}\n",
    "results = pd.DataFrame(results_data,columns = ['True','Predicted'])"
   ]
  },
  {
   "cell_type": "code",
   "execution_count": 26,
   "metadata": {},
   "outputs": [
    {
     "data": {
      "text/html": [
       "<div>\n",
       "<style scoped>\n",
       "    .dataframe tbody tr th:only-of-type {\n",
       "        vertical-align: middle;\n",
       "    }\n",
       "\n",
       "    .dataframe tbody tr th {\n",
       "        vertical-align: top;\n",
       "    }\n",
       "\n",
       "    .dataframe thead th {\n",
       "        text-align: right;\n",
       "    }\n",
       "</style>\n",
       "<table border=\"1\" class=\"dataframe\">\n",
       "  <thead>\n",
       "    <tr style=\"text-align: right;\">\n",
       "      <th></th>\n",
       "      <th>True</th>\n",
       "      <th>Predicted</th>\n",
       "    </tr>\n",
       "  </thead>\n",
       "  <tbody>\n",
       "    <tr>\n",
       "      <th>0</th>\n",
       "      <td>1</td>\n",
       "      <td>1.0</td>\n",
       "    </tr>\n",
       "    <tr>\n",
       "      <th>1</th>\n",
       "      <td>1</td>\n",
       "      <td>1.0</td>\n",
       "    </tr>\n",
       "    <tr>\n",
       "      <th>2</th>\n",
       "      <td>1</td>\n",
       "      <td>1.0</td>\n",
       "    </tr>\n",
       "    <tr>\n",
       "      <th>3</th>\n",
       "      <td>0</td>\n",
       "      <td>0.0</td>\n",
       "    </tr>\n",
       "    <tr>\n",
       "      <th>4</th>\n",
       "      <td>0</td>\n",
       "      <td>0.0</td>\n",
       "    </tr>\n",
       "  </tbody>\n",
       "</table>\n",
       "</div>"
      ],
      "text/plain": [
       "   True  Predicted\n",
       "0     1        1.0\n",
       "1     1        1.0\n",
       "2     1        1.0\n",
       "3     0        0.0\n",
       "4     0        0.0"
      ]
     },
     "execution_count": 26,
     "metadata": {},
     "output_type": "execute_result"
    }
   ],
   "source": [
    "results"
   ]
  },
  {
   "cell_type": "code",
   "execution_count": 27,
   "metadata": {},
   "outputs": [
    {
     "name": "stdout",
     "output_type": "stream",
     "text": [
      "ACCURACY =  1.0\n"
     ]
    }
   ],
   "source": [
    "print (\"ACCURACY = \",(y_pred== y_test).mean())"
   ]
  },
  {
   "cell_type": "code",
   "execution_count": null,
   "metadata": {},
   "outputs": [],
   "source": []
  },
  {
   "cell_type": "code",
   "execution_count": null,
   "metadata": {},
   "outputs": [],
   "source": []
  }
 ],
 "metadata": {
  "kernelspec": {
   "display_name": "Python 3",
   "language": "python",
   "name": "python3"
  },
  "language_info": {
   "codemirror_mode": {
    "name": "ipython",
    "version": 3
   },
   "file_extension": ".py",
   "mimetype": "text/x-python",
   "name": "python",
   "nbconvert_exporter": "python",
   "pygments_lexer": "ipython3",
   "version": "3.5.6"
  }
 },
 "nbformat": 4,
 "nbformat_minor": 4
}
